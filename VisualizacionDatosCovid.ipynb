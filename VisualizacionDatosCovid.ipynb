{
  "nbformat": 4,
  "nbformat_minor": 0,
  "metadata": {
    "colab": {
      "name": "VisualizacionDatosCovid.ipynb",
      "provenance": []
    },
    "kernelspec": {
      "name": "python3",
      "display_name": "Python 3"
    },
    "language_info": {
      "name": "python"
    }
  },
  "cells": [
    {
      "cell_type": "markdown",
      "metadata": {
        "id": "1ruEQNWfxa75"
      },
      "source": [
        "# Codigo de extracción de datos Covid\n",
        "El presente código se encarga de la extracción de información desde el repositorio del ministerio de Ciencias, Tecnologías e innovación. Este se enmarca en el trabajo de datos para el hito 1 del proyecto del curso de Introducción a la minería de datos."
      ]
    },
    {
      "cell_type": "code",
      "metadata": {
        "id": "vqBi9q2Qw7AT"
      },
      "source": [
        "import pandas as pd\n",
        "import numpy as np"
      ],
      "execution_count": null,
      "outputs": []
    },
    {
      "cell_type": "code",
      "metadata": {
        "colab": {
          "base_uri": "https://localhost:8080/"
        },
        "id": "r277QEelyWSo",
        "outputId": "53612c48-4168-4a88-92b8-e96026a41fd6"
      },
      "source": [
        "# Funcion que permite la obtención de los casos totales incrementales de la pandemia: \n",
        "date = '2020-03-30'\n",
        "\n",
        "#Obtención de casos totales en una región dada una fecha: \n",
        "def get_Casos_Totales_Region_on_date(date):\n",
        "  values = pd.read_csv(\"https://raw.githubusercontent.com/MinCiencia/Datos-COVID19/master/output/producto4/\"+date+\"-CasosConfirmados-totalRegional.csv\", index_col='Region')\n",
        "  return values\n",
        "\n",
        "# Obtención del fallecimiento etario por fecha:\n",
        "def get_fallecimiento_etario():\n",
        "  values = pd.read_csv(\"https://raw.githubusercontent.com/MinCiencia/Datos-COVID19/master/output/producto10/FallecidosEtario.csv\", delimiter=',')\n",
        "  return values\n",
        "\n",
        "\n",
        "# Función que entrega los CSV con los datos totales por comuna incrementales\n",
        "def get_Casos_Totales_comunas_incr():\n",
        "  values = pd.read_csv(\"https://raw.githubusercontent.com/MinCiencia/Datos-COVID19/master/output/producto1/Covid-19.csv\")\n",
        "  return values\n",
        "\n",
        "# Cuidado que no está cualquier día:\n",
        "# función entrega los CSV con las los casos totales por coomuna. \n",
        "def get_Casos_Totales_comunas(date):\n",
        "  values = pd.read_csv(\"https://raw.githubusercontent.com/MinCiencia/Datos-COVID19/master/output/producto2/\"+date+\"-CasosConfirmados.csv\")\n",
        "  return values\n",
        "\n",
        "# Obtención de casos totales por región: \n",
        "def get_Casos_totales_x_region(date):\n",
        "  values = pd.read_csv(\"https://raw.githubusercontent.com/MinCiencia/Datos-COVID19/master/output/producto4/\"+date+\"-CasosConfirmados-totalRegional.csv\")\n",
        "  return values\n",
        "  \n",
        "#Obtención de totales nacionales:\n",
        "def get_total_nacional():\n",
        "  values = pd.read_csv(\"https://raw.githubusercontent.com/MinCiencia/Datos-COVID19/master/output/producto5/TotalesNacionales.csv\")\n",
        "  return values\n",
        "\n",
        "\n",
        "#obtención de incidencia:\n",
        "def get_incidencia():\n",
        "  values = pd.read_csv(\"https://raw.githubusercontent.com/MinCiencia/Datos-COVID19/master/output/producto6/bulk/data.csv\")\n",
        "  return values\n",
        "\n",
        "\n"
      ],
      "execution_count": null,
      "outputs": [
        {
          "output_type": "stream",
          "text": [
            "       Poblacion Casos Confirmados  ... Comuna               Tasa\n",
            "0       247552.0           10530.0  ...  Arica  4253.651758014478\n",
            "1       247552.0           14168.0  ...  Arica  5723.241985522233\n",
            "2       247552.0            7819.0  ...  Arica  3158.528309203723\n",
            "3       247552.0           10934.0  ...  Arica  4416.849793174767\n",
            "4       247552.0            7503.0  ...  Arica  3030.878360910031\n",
            "...          ...               ...  ...    ...                ...\n",
            "37644        NaN              32.0  ...    NaN                NaN\n",
            "37645        NaN              29.0  ...    NaN                NaN\n",
            "37646        NaN              15.0  ...    NaN                NaN\n",
            "37647        NaN                 -  ...    NaN                  -\n",
            "37648        NaN                 -  ...  Aisén                  -\n",
            "\n",
            "[37649 rows x 10 columns]\n"
          ],
          "name": "stdout"
        }
      ]
    },
    {
      "cell_type": "code",
      "metadata": {
        "id": "AIRKemm-2A_J"
      },
      "source": [
        ""
      ],
      "execution_count": null,
      "outputs": []
    }
  ]
}