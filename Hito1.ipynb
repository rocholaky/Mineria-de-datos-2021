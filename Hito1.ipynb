{
 "cells": [
  {
   "cell_type": "markdown",
   "metadata": {
    "colab_type": "text",
    "id": "view-in-github"
   },
   "source": [
    "<a href=\"https://colab.research.google.com/github/rocholaky/Mineria-de-datos-2021/blob/main/Hito1.ipynb\" target=\"_parent\"><img src=\"https://colab.research.google.com/assets/colab-badge.svg\" alt=\"Open In Colab\"/></a>"
   ]
  },
  {
   "cell_type": "markdown",
   "metadata": {
    "id": "zTMmesp1vTf5"
   },
   "source": [
    "# Hito1: Proyecto Base de datos Covid Ministerio de Ciencias.\n",
    "En el presente informe, se especifica el trabajo realizado en el dataset sobre covid 19 del ministerio de ciencias, donde se abordará la exploración de datos hecha para este repositorio.\n",
    "\n",
    "El repositorio consta de 83 tablas donde cada una especifica cierto tipo de información que se ha extraido de documentos oficiales del gobierno o entidades de salud. El repositorio puede ser encontrado en el siguiente link [repositorio ministerio de ciencias.](https://github.com/MinCiencia/Datos-COVID19)\n",
    "\n"
   ]
  },
  {
   "cell_type": "markdown",
   "metadata": {
    "id": "syUeH2z-vTWK"
   },
   "source": [
    "# Introducción: \n",
    "No es sorpresa que uno de los sucesos históricos que más ha afectado en nuestra época es la pandemia de Covid-19. Esta ha generado la muerte de más de 440000 personas en todo el mundo y el encierro de gran parte de la población por no solo días, sino que meses. Dentro de este contexto de incertidumbre, se ha hecho imperiosa la necesidad de entender el virus desde los datos, para así poder tener políticas de salud acordes y así evitar el contagio de la población. Ya habiendo pasado un año desde el inicio de la pandemia, se puede decir que se conoce en cierto modo, mucho mejor los efectos y formas de contagio del virus Covid, pero con el aumento de casos en ciertas localidades además de el descubrimiento de nuevas variantes del virus el análisis constante de esta enfermedad sigue siendo prioritario para no solo entender como se propaga sino que poder sospechar de la creación de nuevas cepas las que puedan cambiar la situación de medidas sanitarias o incluso la vacuna. \n",
    "\n",
    "# Motivación: \n",
    "En el marco del proyecto del curso de Introducción a la minería de datos, se eligió este dataset ya que se cree fehacientemente que el mayor entendimiento del covid desde el data sciente puede llevar a entender problemas que se han generado en distintas partes del mundo. En específico el interés radica en entender la pandemia a nivel nacional, ya que se cree que con el alto aumento de casos que incluso ha llevado de vuelta a varias comunas a cuarentena. En esta linea es necesario poder estudiar en profundidad el comportamiento del virus para así poder entender y analizar tanto políticas sanitarias como medidas otras medidas tomadas por el gobierno. Debido a esto se espera poder encontrar patrones en distintas regiones que permitan de este modo entender que tipo de acciones lleva a que empeore la situación del covid en esta, para así meidante un modelo entender los efectos de distintas varibles importantes como son: mobilidad, muertes, contagios diarios, casos activos diarios, casos asintomáticos, entre otros. "
   ]
  },
  {
   "cell_type": "markdown",
   "metadata": {
    "id": "SvKQxPudnIbI"
   },
   "source": [
    "<a href=\"https://colab.research.google.com/github/rocholaky/Mineria-de-datos-2021/blob/master/Hito1.ipynb\">\n",
    "  <img src=\"https://colab.research.google.com/assets/colab-badge.svg\" alt=\"Open In Colab\"/>\n",
    "</a>"
   ]
  },
  {
   "cell_type": "code",
   "execution_count": 2,
   "metadata": {
    "colab": {
     "base_uri": "https://localhost:8080/"
    },
    "id": "5d9fc0fnCkuN",
    "outputId": "84ac6247-652f-40d4-de24-7e7cef24664e"
   },
   "outputs": [
    {
     "name": "stdout",
     "output_type": "stream",
     "text": [
      "C:\\Users\\javie\\Documents\\cursos\\mineria\\Mineria-de-datos-2021\\Mineria-de-datos-2021\n"
     ]
    },
    {
     "name": "stderr",
     "output_type": "stream",
     "text": [
      "Cloning into 'Mineria-de-datos-2021'...\n"
     ]
    }
   ],
   "source": [
    "# descargamos el repo en el colab: \n",
    "!git clone https://github.com/rocholaky/Mineria-de-datos-2021\n",
    "%cd  Mineria-de-datos-2021\n"
   ]
  },
  {
   "cell_type": "code",
   "execution_count": 4,
   "metadata": {
    "id": "LFDYeHodpBhJ"
   },
   "outputs": [],
   "source": [
    "from utils import dataRetrieval, util_plot"
   ]
  },
  {
   "cell_type": "markdown",
   "metadata": {
    "id": "WvOhyPv9CsXo"
   },
   "source": [
    "# Análisis Roberto"
   ]
  },
  {
   "cell_type": "code",
   "execution_count": 20,
   "metadata": {
    "colab": {
     "base_uri": "https://localhost:8080/",
     "height": 406
    },
    "id": "CJL8hGCmCwfA",
    "outputId": "23382a71-6975-4497-fcbd-7ccab63ab238"
   },
   "outputs": [
    {
     "data": {
      "text/html": [
       "<div>\n",
       "<style scoped>\n",
       "    .dataframe tbody tr th:only-of-type {\n",
       "        vertical-align: middle;\n",
       "    }\n",
       "\n",
       "    .dataframe tbody tr th {\n",
       "        vertical-align: top;\n",
       "    }\n",
       "\n",
       "    .dataframe thead th {\n",
       "        text-align: right;\n",
       "    }\n",
       "</style>\n",
       "<table border=\"1\" class=\"dataframe\">\n",
       "  <thead>\n",
       "    <tr style=\"text-align: right;\">\n",
       "      <th></th>\n",
       "      <th>Grupo de edad</th>\n",
       "      <th>&lt;=39</th>\n",
       "      <th>40-49</th>\n",
       "      <th>50-59</th>\n",
       "      <th>60-69</th>\n",
       "      <th>70-79</th>\n",
       "      <th>80-89</th>\n",
       "      <th>&gt;=90</th>\n",
       "    </tr>\n",
       "  </thead>\n",
       "  <tbody>\n",
       "    <tr>\n",
       "      <th>0</th>\n",
       "      <td>2020-04-09</td>\n",
       "      <td>2</td>\n",
       "      <td>1</td>\n",
       "      <td>1</td>\n",
       "      <td>9</td>\n",
       "      <td>21</td>\n",
       "      <td>19</td>\n",
       "      <td>4</td>\n",
       "    </tr>\n",
       "    <tr>\n",
       "      <th>1</th>\n",
       "      <td>2020-04-10</td>\n",
       "      <td>2</td>\n",
       "      <td>2</td>\n",
       "      <td>2</td>\n",
       "      <td>10</td>\n",
       "      <td>22</td>\n",
       "      <td>21</td>\n",
       "      <td>6</td>\n",
       "    </tr>\n",
       "    <tr>\n",
       "      <th>2</th>\n",
       "      <td>2020-04-11</td>\n",
       "      <td>3</td>\n",
       "      <td>2</td>\n",
       "      <td>2</td>\n",
       "      <td>12</td>\n",
       "      <td>24</td>\n",
       "      <td>24</td>\n",
       "      <td>6</td>\n",
       "    </tr>\n",
       "    <tr>\n",
       "      <th>3</th>\n",
       "      <td>2020-04-12</td>\n",
       "      <td>3</td>\n",
       "      <td>2</td>\n",
       "      <td>3</td>\n",
       "      <td>12</td>\n",
       "      <td>28</td>\n",
       "      <td>25</td>\n",
       "      <td>7</td>\n",
       "    </tr>\n",
       "    <tr>\n",
       "      <th>4</th>\n",
       "      <td>2020-04-13</td>\n",
       "      <td>3</td>\n",
       "      <td>2</td>\n",
       "      <td>3</td>\n",
       "      <td>12</td>\n",
       "      <td>29</td>\n",
       "      <td>26</td>\n",
       "      <td>7</td>\n",
       "    </tr>\n",
       "    <tr>\n",
       "      <th>...</th>\n",
       "      <td>...</td>\n",
       "      <td>...</td>\n",
       "      <td>...</td>\n",
       "      <td>...</td>\n",
       "      <td>...</td>\n",
       "      <td>...</td>\n",
       "      <td>...</td>\n",
       "      <td>...</td>\n",
       "    </tr>\n",
       "    <tr>\n",
       "      <th>366</th>\n",
       "      <td>2021-04-10</td>\n",
       "      <td>561</td>\n",
       "      <td>834</td>\n",
       "      <td>2402</td>\n",
       "      <td>5022</td>\n",
       "      <td>6822</td>\n",
       "      <td>6259</td>\n",
       "      <td>2313</td>\n",
       "    </tr>\n",
       "    <tr>\n",
       "      <th>367</th>\n",
       "      <td>2021-04-11</td>\n",
       "      <td>564</td>\n",
       "      <td>840</td>\n",
       "      <td>2419</td>\n",
       "      <td>5052</td>\n",
       "      <td>6855</td>\n",
       "      <td>6292</td>\n",
       "      <td>2324</td>\n",
       "    </tr>\n",
       "    <tr>\n",
       "      <th>368</th>\n",
       "      <td>2021-04-12</td>\n",
       "      <td>568</td>\n",
       "      <td>849</td>\n",
       "      <td>2441</td>\n",
       "      <td>5074</td>\n",
       "      <td>6890</td>\n",
       "      <td>6323</td>\n",
       "      <td>2338</td>\n",
       "    </tr>\n",
       "    <tr>\n",
       "      <th>369</th>\n",
       "      <td>2021-04-13</td>\n",
       "      <td>569</td>\n",
       "      <td>852</td>\n",
       "      <td>2446</td>\n",
       "      <td>5081</td>\n",
       "      <td>6898</td>\n",
       "      <td>6332</td>\n",
       "      <td>2340</td>\n",
       "    </tr>\n",
       "    <tr>\n",
       "      <th>370</th>\n",
       "      <td>2021-04-14</td>\n",
       "      <td>569</td>\n",
       "      <td>852</td>\n",
       "      <td>2454</td>\n",
       "      <td>5088</td>\n",
       "      <td>6905</td>\n",
       "      <td>6339</td>\n",
       "      <td>2341</td>\n",
       "    </tr>\n",
       "  </tbody>\n",
       "</table>\n",
       "<p>371 rows × 8 columns</p>\n",
       "</div>"
      ],
      "text/plain": [
       "    Grupo de edad  <=39  40-49  50-59  60-69  70-79  80-89  >=90\n",
       "0      2020-04-09     2      1      1      9     21     19     4\n",
       "1      2020-04-10     2      2      2     10     22     21     6\n",
       "2      2020-04-11     3      2      2     12     24     24     6\n",
       "3      2020-04-12     3      2      3     12     28     25     7\n",
       "4      2020-04-13     3      2      3     12     29     26     7\n",
       "..            ...   ...    ...    ...    ...    ...    ...   ...\n",
       "366    2021-04-10   561    834   2402   5022   6822   6259  2313\n",
       "367    2021-04-11   564    840   2419   5052   6855   6292  2324\n",
       "368    2021-04-12   568    849   2441   5074   6890   6323  2338\n",
       "369    2021-04-13   569    852   2446   5081   6898   6332  2340\n",
       "370    2021-04-14   569    852   2454   5088   6905   6339  2341\n",
       "\n",
       "[371 rows x 8 columns]"
      ]
     },
     "execution_count": 20,
     "metadata": {
      "tags": []
     },
     "output_type": "execute_result"
    }
   ],
   "source": [
    "fallecimientos = dataRetrieval.get_fallecimiento_etario()"
   ]
  },
  {
   "cell_type": "markdown",
   "metadata": {
    "id": "-FRy-4oECw84"
   },
   "source": [
    "# Análisis Sebastían "
   ]
  },
  {
   "cell_type": "code",
   "execution_count": null,
   "metadata": {
    "id": "W7B87WJqC26g",
    "tags": []
   },
   "outputs": [],
   "source": []
  },
  {
   "cell_type": "markdown",
   "metadata": {
    "id": "S-nCb-axC3PQ"
   },
   "source": [
    "# Análisis Ricardo"
   ]
  },
  {
   "cell_type": "code",
   "execution_count": null,
   "metadata": {
    "id": "R43PPvEGC5Nh"
   },
   "outputs": [],
   "source": []
  },
  {
   "cell_type": "markdown",
   "metadata": {
    "id": "Urt-F9VrC5tw"
   },
   "source": [
    "# Análisis Javier:"
   ]
  },
  {
   "cell_type": "code",
   "execution_count": 1,
   "metadata": {},
   "outputs": [
    {
     "ename": "NameError",
     "evalue": "name 'dataRetrieval' is not defined",
     "output_type": "error",
     "traceback": [
      "\u001b[1;31m---------------------------------------------------------------------------\u001b[0m",
      "\u001b[1;31mNameError\u001b[0m                                 Traceback (most recent call last)",
      "\u001b[1;32m<ipython-input-1-ab496e42bdfc>\u001b[0m in \u001b[0;36m<module>\u001b[1;34m\u001b[0m\n\u001b[1;32m----> 1\u001b[1;33m \u001b[0mtabla2\u001b[0m \u001b[1;33m=\u001b[0m \u001b[0mdataRetrieval\u001b[0m\u001b[1;33m.\u001b[0m\u001b[0mget_casos_totales_region_on_date\u001b[0m\u001b[1;33m(\u001b[0m\u001b[1;33m)\u001b[0m\u001b[1;33m\u001b[0m\u001b[1;33m\u001b[0m\u001b[0m\n\u001b[0m",
      "\u001b[1;31mNameError\u001b[0m: name 'dataRetrieval' is not defined"
     ]
    }
   ],
   "source": [
    "tabla2 = dataRetrieval.get_casos_totales_region_on_date()"
   ]
  },
  {
   "cell_type": "markdown",
   "metadata": {
    "id": "7miklMD4C9Ap"
   },
   "source": [
    "# Análisis Nicolás: "
   ]
  },
  {
   "cell_type": "code",
   "execution_count": null,
   "metadata": {
    "id": "1VX6pA28C_to"
   },
   "outputs": [],
   "source": []
  }
 ],
 "metadata": {
  "colab": {
   "include_colab_link": true,
   "name": "Hito1.ipynb",
   "provenance": []
  },
  "kernelspec": {
   "display_name": "Python 3",
   "language": "python",
   "name": "python3"
  },
  "language_info": {
   "codemirror_mode": {
    "name": "ipython",
    "version": 3
   },
   "file_extension": ".py",
   "mimetype": "text/x-python",
   "name": "python",
   "nbconvert_exporter": "python",
   "pygments_lexer": "ipython3",
   "version": "3.8.5"
  }
 },
 "nbformat": 4,
 "nbformat_minor": 4
}
