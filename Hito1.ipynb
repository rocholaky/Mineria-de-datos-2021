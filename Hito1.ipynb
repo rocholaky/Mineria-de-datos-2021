{
  "nbformat": 4,
  "nbformat_minor": 0,
  "metadata": {
    "colab": {
      "name": "Hito1.ipynb",
      "provenance": []
    },
    "kernelspec": {
      "name": "python3",
      "display_name": "Python 3"
    },
    "language_info": {
      "name": "python"
    }
  },
  "cells": [
    {
      "cell_type": "markdown",
      "metadata": {
        "id": "zTMmesp1vTf5"
      },
      "source": [
        "# Hito1: Proyecto Base de datos Covid Ministerio de Ciencias.\n",
        "En el presente informe, se especifica el trabajo realizado en el dataset sobre covid 19 del ministerio de ciencias, donde se abordará la exploración de datos hecha para este repositorio.\n",
        "\n",
        "El repositorio consta de 83 tablas donde cada una especifica cierto tipo de información que se ha extraido de documentos oficiales del gobierno o entidades de salud. El repositorio puede ser encontrado en el siguiente link [repositorio ministerio de ciencias.](https://github.com/MinCiencia/Datos-COVID19)\n",
        "\n"
      ]
    },
    {
      "cell_type": "markdown",
      "metadata": {
        "id": "syUeH2z-vTWK"
      },
      "source": [
        "# Introducción: \n",
        "No es sorpresa que uno de los sucesos históricos que más ha afectado en nuestra época es la pandemia de Covid-19. Esta ha generado la muerte de más de 440000 personas en todo el mundo y el encierro de gran parte de la población por no solo días, sino que meses. Dentro de este contexto de incertidumbre, se ha hecho imperiosa la necesidad de entender el virus desde los datos, para así poder tener políticas de salud acordes y así evitar el contagio de la población. Ya habiendo pasado un año desde el inicio de la pandemia, se puede decir que se conoce en cierto modo, mucho mejor los efectos y formas de contagio del virus Covid, pero con el aumento de casos en ciertas localidades además de el descubrimiento de nuevas variantes del virus el análisis constante de esta enfermedad sigue siendo prioritario para no solo entender como se propaga sino que poder sospechar de la creación de nuevas cepas las que puedan cambiar la situación de medidas sanitarias o incluso la vacuna. \n",
        "\n",
        "# Motivación: \n",
        "En el marco del proyecto del curso de Introducción a la minería de datos, se eligió este dataset ya que se cree fehacientemente que el mayor entendimiento del covid desde el data sciente puede llevar a entender problemas que se han generado en distintas partes del mundo. En específico el interés radica en entender la pandemia a nivel nacional, ya que se cree que con el alto aumento de casos que incluso ha llevado de vuelta a varias comunas a cuarentena. En esta linea es necesario poder estudiar en profundidad el comportamiento del virus para así poder entender y analizar tanto políticas sanitarias como medidas otras medidas tomadas por el gobierno. Debido a esto se espera poder encontrar patrones en distintas regiones que permitan de este modo entender que tipo de acciones lleva a que empeore la situación del covid en esta, para así meidante un modelo entender los efectos de distintas varibles importantes como son: mobilidad, muertes, contagios diarios, casos activos diarios, casos asintomáticos, entre otros. "
      ]
    },
    {
      "cell_type": "code",
      "metadata": {
        "colab": {
          "base_uri": "https://localhost:8080/"
        },
        "id": "5d9fc0fnCkuN",
        "outputId": "c7c34b2d-352e-440d-84c2-dc6bd466ac60"
      },
      "source": [
        "# descargamos el repo en el colab: \n",
        "!wget https://raw.githubusercontent.com/rocholaky/Mineria-de-datos-2021/master/exploracionRC.py -q --show-progress\n",
        "!ls"
      ],
      "execution_count": 9,
      "outputs": [
        {
          "output_type": "stream",
          "text": [
            "sample_data\n"
          ],
          "name": "stdout"
        }
      ]
    },
    {
      "cell_type": "markdown",
      "metadata": {
        "id": "WvOhyPv9CsXo"
      },
      "source": [
        "# Análisis Roberto"
      ]
    },
    {
      "cell_type": "code",
      "metadata": {
        "colab": {
          "base_uri": "https://localhost:8080/",
          "height": 310
        },
        "id": "CJL8hGCmCwfA",
        "outputId": "31496df3-2d23-49d1-e94c-50f76b894250"
      },
      "source": [
        "import exploracionRC.py\n"
      ],
      "execution_count": 8,
      "outputs": [
        {
          "output_type": "error",
          "ename": "ModuleNotFoundError",
          "evalue": "ignored",
          "traceback": [
            "\u001b[0;31m---------------------------------------------------------------------------\u001b[0m",
            "\u001b[0;31mModuleNotFoundError\u001b[0m                       Traceback (most recent call last)",
            "\u001b[0;32m<ipython-input-8-7cde503955fe>\u001b[0m in \u001b[0;36m<module>\u001b[0;34m()\u001b[0m\n\u001b[0;32m----> 1\u001b[0;31m \u001b[0;32mimport\u001b[0m \u001b[0mexploracionRC\u001b[0m\u001b[0;34m.\u001b[0m\u001b[0mpy\u001b[0m\u001b[0;34m\u001b[0m\u001b[0;34m\u001b[0m\u001b[0m\n\u001b[0m",
            "\u001b[0;31mModuleNotFoundError\u001b[0m: No module named 'exploracionRC'",
            "",
            "\u001b[0;31m---------------------------------------------------------------------------\u001b[0;32m\nNOTE: If your import is failing due to a missing package, you can\nmanually install dependencies using either !pip or !apt.\n\nTo view examples of installing some common dependencies, click the\n\"Open Examples\" button below.\n\u001b[0;31m---------------------------------------------------------------------------\u001b[0m\n"
          ]
        }
      ]
    },
    {
      "cell_type": "markdown",
      "metadata": {
        "id": "-FRy-4oECw84"
      },
      "source": [
        "# Análisis Sebastían "
      ]
    },
    {
      "cell_type": "code",
      "metadata": {
        "id": "W7B87WJqC26g"
      },
      "source": [
        ""
      ],
      "execution_count": null,
      "outputs": []
    },
    {
      "cell_type": "markdown",
      "metadata": {
        "id": "S-nCb-axC3PQ"
      },
      "source": [
        "# Análisis Ricardo"
      ]
    },
    {
      "cell_type": "code",
      "metadata": {
        "id": "R43PPvEGC5Nh"
      },
      "source": [
        ""
      ],
      "execution_count": null,
      "outputs": []
    },
    {
      "cell_type": "markdown",
      "metadata": {
        "id": "Urt-F9VrC5tw"
      },
      "source": [
        "# Análisis Javier:"
      ]
    },
    {
      "cell_type": "markdown",
      "metadata": {
        "id": "7miklMD4C9Ap"
      },
      "source": [
        "# Análisis Nicolás: "
      ]
    },
    {
      "cell_type": "code",
      "metadata": {
        "id": "1VX6pA28C_to"
      },
      "source": [
        ""
      ],
      "execution_count": null,
      "outputs": []
    }
  ]
}